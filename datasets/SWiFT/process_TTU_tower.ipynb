{
 "cells": [
  {
   "cell_type": "code",
   "execution_count": 1,
   "metadata": {},
   "outputs": [],
   "source": [
    "%load_ext autoreload\n",
    "%autoreload 2"
   ]
  },
  {
   "cell_type": "code",
   "execution_count": 2,
   "metadata": {},
   "outputs": [],
   "source": [
    "%matplotlib inline\n",
    "import os\n",
    "import numpy as np\n",
    "import matplotlib.pyplot as plt\n",
    "from matplotlib.cm import get_cmap\n",
    "import pandas as pd"
   ]
  },
  {
   "cell_type": "code",
   "execution_count": 3,
   "metadata": {},
   "outputs": [
    {
     "name": "stderr",
     "output_type": "stream",
     "text": [
      "/home/ckaul/.conda-envs/my_env/lib/python3.7/site-packages/xarray/core/merge.py:17: FutureWarning: The Panel class is removed from pandas. Accessing it from the top-level namespace will also be removed in the next version\n",
      "  PANDAS_TYPES = (pd.Series, pd.DataFrame, pd.Panel)\n"
     ]
    }
   ],
   "source": [
    "# for data processing\n",
    "import os, sys\n",
    "module_path = os.path.join('/home/ckaul/DriesNotebook')\n",
    "if module_path not in sys.path:\n",
    "    sys.path.append(module_path)\n",
    "from mmctools.dataloaders import read_files\n",
    "from mmctools.helper_functions import calc_wind, theta, covariance"
   ]
  },
  {
   "cell_type": "code",
   "execution_count": 4,
   "metadata": {},
   "outputs": [],
   "source": [
    "# site-specific correction\n",
    "from TTURawToMMC import reg_coefs, tilts\n",
    "from mmctools.measurements.metmast import tilt_correction"
   ]
  },
  {
   "cell_type": "code",
   "execution_count": 5,
   "metadata": {},
   "outputs": [],
   "source": [
    "# for plotting\n",
    "from mmctools.plotting import plot_timehistory_at_height, plot_profile"
   ]
  },
  {
   "cell_type": "markdown",
   "metadata": {},
   "source": [
    "# Process and tilt-correct sonic data from TTU tower\n",
    "written by [Eliot Quon](mailto:eliot.quon@nrel.gov)\n",
    "\n",
    "Process data at SWiFT on 2013-11-08 and 09"
   ]
  },
  {
   "cell_type": "code",
   "execution_count": 6,
   "metadata": {},
   "outputs": [],
   "source": [
    "# DAP data\n",
    "dataset = '/projects/mmcpnnl/ckaul/mmc_tower'\n",
    "datapath = '/projects/mmcpnnl/ckaul/mmc_tower/ProcessedData' # where the data will get saved locally\n",
    "startdate = pd.to_datetime('2013-11-08')\n",
    "enddate = pd.to_datetime('2013-11-10')"
   ]
  },
  {
   "cell_type": "code",
   "execution_count": 7,
   "metadata": {},
   "outputs": [],
   "source": [
    "# outputs\n",
    "output_1Hz = '/projects/mmcpnnl/ckaul/mmc_tower/ProcessedData/TTU_tilt_corrected_20131108-09.csv'\n",
    "output_10min = '/projects/mmcpnnl/ckaul/mmc_tower/ProcessedData/TTU_tilt_corrected_20131108-09_10min.csv'"
   ]
  },
  {
   "cell_type": "markdown",
   "metadata": {},
   "source": [
    "## 1. Data processing"
   ]
  },
  {
   "cell_type": "code",
   "execution_count": 8,
   "metadata": {},
   "outputs": [],
   "source": [
    "filelist = []\n",
    "overwrite_files = False # force download of files"
   ]
  },
  {
   "cell_type": "markdown",
   "metadata": {},
   "source": [
    "### 1a. try to get data from DAP on the fly"
   ]
  },
  {
   "cell_type": "code",
   "execution_count": 9,
   "metadata": {},
   "outputs": [
    {
     "name": "stdout",
     "output_type": "stream",
     "text": [
      "No authentication found. Using guest credentials...\n",
      "username: quon\n",
      "password: ········\n",
      "Success!\n",
      "48 data files selected\n",
      "Could not place order\n",
      "Server Returned Bad Status Code\n",
      "Status Code: 400\n",
      "Reason: order is too large to create (10 GB limit)\n",
      "No files were downloaded; need to manually download and set `filelist`\n"
     ]
    }
   ],
   "source": [
    "try:\n",
    "    import A2e\n",
    "except ImportError:\n",
    "    print('dap-py module not available; need to manually set `filelist`')\n",
    "else:\n",
    "    a2e = A2e.A2e()\n",
    "    a2e.setup_cert_auth()\n",
    "    datafiles = a2e.search({\n",
    "        'Dataset': dataset,\n",
    "        'date_time': {\n",
    "            'between': [startdate.strftime('%Y%m%d%H%M%S'), enddate.strftime('%Y%m%d%H%M%S')]\n",
    "        }\n",
    "    })\n",
    "    print(len(datafiles),'data files selected')\n",
    "    filelist = a2e.download_files(datafiles, path=datapath, force=overwrite_files)\n",
    "    if filelist is None:\n",
    "        print('No files were downloaded; need to manually download and set `filelist`')"
   ]
  },
  {
   "cell_type": "code",
   "execution_count": 8,
   "metadata": {
    "scrolled": true
   },
   "outputs": [
    {
     "data": {
      "text/plain": [
       "['/projects/mmcpnnl/ckaul/mmc_tower/tower.z01.00.20131108.000000.ttu200m.dat',\n",
       " '/projects/mmcpnnl/ckaul/mmc_tower/tower.z01.00.20131108.010000.ttu200m.dat',\n",
       " '/projects/mmcpnnl/ckaul/mmc_tower/tower.z01.00.20131108.020000.ttu200m.dat',\n",
       " '/projects/mmcpnnl/ckaul/mmc_tower/tower.z01.00.20131108.030000.ttu200m.dat',\n",
       " '/projects/mmcpnnl/ckaul/mmc_tower/tower.z01.00.20131108.040000.ttu200m.dat',\n",
       " '/projects/mmcpnnl/ckaul/mmc_tower/tower.z01.00.20131108.050000.ttu200m.dat',\n",
       " '/projects/mmcpnnl/ckaul/mmc_tower/tower.z01.00.20131108.060000.ttu200m.dat',\n",
       " '/projects/mmcpnnl/ckaul/mmc_tower/tower.z01.00.20131108.070000.ttu200m.dat',\n",
       " '/projects/mmcpnnl/ckaul/mmc_tower/tower.z01.00.20131108.080000.ttu200m.dat',\n",
       " '/projects/mmcpnnl/ckaul/mmc_tower/tower.z01.00.20131108.090000.ttu200m.dat',\n",
       " '/projects/mmcpnnl/ckaul/mmc_tower/tower.z01.00.20131108.100000.ttu200m.dat',\n",
       " '/projects/mmcpnnl/ckaul/mmc_tower/tower.z01.00.20131108.110000.ttu200m.dat',\n",
       " '/projects/mmcpnnl/ckaul/mmc_tower/tower.z01.00.20131108.120000.ttu200m.dat',\n",
       " '/projects/mmcpnnl/ckaul/mmc_tower/tower.z01.00.20131108.130000.ttu200m.dat',\n",
       " '/projects/mmcpnnl/ckaul/mmc_tower/tower.z01.00.20131108.140000.ttu200m.dat',\n",
       " '/projects/mmcpnnl/ckaul/mmc_tower/tower.z01.00.20131108.150000.ttu200m.dat',\n",
       " '/projects/mmcpnnl/ckaul/mmc_tower/tower.z01.00.20131108.160000.ttu200m.dat',\n",
       " '/projects/mmcpnnl/ckaul/mmc_tower/tower.z01.00.20131108.170000.ttu200m.dat',\n",
       " '/projects/mmcpnnl/ckaul/mmc_tower/tower.z01.00.20131108.180000.ttu200m.dat',\n",
       " '/projects/mmcpnnl/ckaul/mmc_tower/tower.z01.00.20131108.190000.ttu200m.dat',\n",
       " '/projects/mmcpnnl/ckaul/mmc_tower/tower.z01.00.20131108.200000.ttu200m.dat',\n",
       " '/projects/mmcpnnl/ckaul/mmc_tower/tower.z01.00.20131108.210000.ttu200m.dat',\n",
       " '/projects/mmcpnnl/ckaul/mmc_tower/tower.z01.00.20131108.220000.ttu200m.dat',\n",
       " '/projects/mmcpnnl/ckaul/mmc_tower/tower.z01.00.20131108.230000.ttu200m.dat',\n",
       " '/projects/mmcpnnl/ckaul/mmc_tower/tower.z01.00.20131109.000000.ttu200m.dat',\n",
       " '/projects/mmcpnnl/ckaul/mmc_tower/tower.z01.00.20131109.010000.ttu200m.dat',\n",
       " '/projects/mmcpnnl/ckaul/mmc_tower/tower.z01.00.20131109.020000.ttu200m.dat',\n",
       " '/projects/mmcpnnl/ckaul/mmc_tower/tower.z01.00.20131109.030000.ttu200m.dat',\n",
       " '/projects/mmcpnnl/ckaul/mmc_tower/tower.z01.00.20131109.040000.ttu200m.dat',\n",
       " '/projects/mmcpnnl/ckaul/mmc_tower/tower.z01.00.20131109.050000.ttu200m.dat',\n",
       " '/projects/mmcpnnl/ckaul/mmc_tower/tower.z01.00.20131109.060000.ttu200m.dat',\n",
       " '/projects/mmcpnnl/ckaul/mmc_tower/tower.z01.00.20131109.070000.ttu200m.dat',\n",
       " '/projects/mmcpnnl/ckaul/mmc_tower/tower.z01.00.20131109.080000.ttu200m.dat',\n",
       " '/projects/mmcpnnl/ckaul/mmc_tower/tower.z01.00.20131109.090000.ttu200m.dat',\n",
       " '/projects/mmcpnnl/ckaul/mmc_tower/tower.z01.00.20131109.100000.ttu200m.dat',\n",
       " '/projects/mmcpnnl/ckaul/mmc_tower/tower.z01.00.20131109.110000.ttu200m.dat',\n",
       " '/projects/mmcpnnl/ckaul/mmc_tower/tower.z01.00.20131109.120000.ttu200m.dat',\n",
       " '/projects/mmcpnnl/ckaul/mmc_tower/tower.z01.00.20131109.130000.ttu200m.dat',\n",
       " '/projects/mmcpnnl/ckaul/mmc_tower/tower.z01.00.20131109.140000.ttu200m.dat',\n",
       " '/projects/mmcpnnl/ckaul/mmc_tower/tower.z01.00.20131109.150000.ttu200m.dat',\n",
       " '/projects/mmcpnnl/ckaul/mmc_tower/tower.z01.00.20131109.160000.ttu200m.dat',\n",
       " '/projects/mmcpnnl/ckaul/mmc_tower/tower.z01.00.20131109.170000.ttu200m.dat',\n",
       " '/projects/mmcpnnl/ckaul/mmc_tower/tower.z01.00.20131109.180000.ttu200m.dat',\n",
       " '/projects/mmcpnnl/ckaul/mmc_tower/tower.z01.00.20131109.190000.ttu200m.dat',\n",
       " '/projects/mmcpnnl/ckaul/mmc_tower/tower.z01.00.20131109.200000.ttu200m.dat',\n",
       " '/projects/mmcpnnl/ckaul/mmc_tower/tower.z01.00.20131109.210000.ttu200m.dat',\n",
       " '/projects/mmcpnnl/ckaul/mmc_tower/tower.z01.00.20131109.220000.ttu200m.dat',\n",
       " '/projects/mmcpnnl/ckaul/mmc_tower/tower.z01.00.20131109.230000.ttu200m.dat']"
      ]
     },
     "execution_count": 8,
     "metadata": {},
     "output_type": "execute_result"
    }
   ],
   "source": [
    "# UNCOMMENT THIS to use previously downloaded files\n",
    "import glob\n",
    "filelist = glob.glob('/projects/mmcpnnl/ckaul/mmc_tower/*.dat')\n",
    "filelist.sort()\n",
    "filelist"
   ]
  },
  {
   "cell_type": "markdown",
   "metadata": {},
   "source": [
    "### 1b. process downloaded data"
   ]
  },
  {
   "cell_type": "code",
   "execution_count": 9,
   "metadata": {},
   "outputs": [],
   "source": [
    "variables = ['unorth','vwest','w','ustream','vcross','wdir','tsonic','t','p','rh']\n",
    "\n",
    "#heights_ft = [3,8,13,33,55,155,245,382,519,656]\n",
    "heights = np.array([0.9, 2.4, 4.0, 10.1, 16.8, 47.3, 74.7, 116.5, 158.2, 200.0])\n",
    "sampling_freq = 50. # Hz\n",
    "resample_interval = '1s'"
   ]
  },
  {
   "cell_type": "code",
   "execution_count": 10,
   "metadata": {},
   "outputs": [],
   "source": [
    "# *wide* format: variables change the fastest, then heights\n",
    "# e.g., unorth_3ft, vwest_3ft, ..., rh_3ft, unorth_8ft, vwest_8ft, ...\n",
    "columns = pd.MultiIndex.from_product([heights,variables],names=['height',None])"
   ]
  },
  {
   "cell_type": "code",
   "execution_count": 11,
   "metadata": {},
   "outputs": [],
   "source": [
    "def read_wide_csv(fname,**kwargs):\n",
    "    \"\"\"Convert table in wide format into stacked/long format with multi-index\"\"\"\n",
    "    df = pd.read_csv(fname,\n",
    "                     skiprows=5, header=None,\n",
    "                     index_col=0, parse_dates=True,\n",
    "                     **kwargs)\n",
    "    df.index.name = 'datetime'\n",
    "    df.columns = columns\n",
    "    df = df.resample(resample_interval).first()\n",
    "    return df.stack(level=0)"
   ]
  },
  {
   "cell_type": "code",
   "execution_count": 12,
   "metadata": {},
   "outputs": [
    {
     "name": "stdout",
     "output_type": "stream",
     "text": [
      "CPU times: user 7min 1s, sys: 13.2 s, total: 7min 14s\n",
      "Wall time: 1min 56s\n"
     ]
    },
    {
     "data": {
      "text/html": [
       "<div>\n",
       "<style scoped>\n",
       "    .dataframe tbody tr th:only-of-type {\n",
       "        vertical-align: middle;\n",
       "    }\n",
       "\n",
       "    .dataframe tbody tr th {\n",
       "        vertical-align: top;\n",
       "    }\n",
       "\n",
       "    .dataframe thead th {\n",
       "        text-align: right;\n",
       "    }\n",
       "</style>\n",
       "<table border=\"1\" class=\"dataframe\">\n",
       "  <thead>\n",
       "    <tr style=\"text-align: right;\">\n",
       "      <th></th>\n",
       "      <th></th>\n",
       "      <th>p</th>\n",
       "      <th>rh</th>\n",
       "      <th>t</th>\n",
       "      <th>tsonic</th>\n",
       "      <th>unorth</th>\n",
       "      <th>ustream</th>\n",
       "      <th>vcross</th>\n",
       "      <th>vwest</th>\n",
       "      <th>w</th>\n",
       "      <th>wdir</th>\n",
       "    </tr>\n",
       "    <tr>\n",
       "      <th>datetime</th>\n",
       "      <th>height</th>\n",
       "      <th></th>\n",
       "      <th></th>\n",
       "      <th></th>\n",
       "      <th></th>\n",
       "      <th></th>\n",
       "      <th></th>\n",
       "      <th></th>\n",
       "      <th></th>\n",
       "      <th></th>\n",
       "      <th></th>\n",
       "    </tr>\n",
       "  </thead>\n",
       "  <tbody>\n",
       "    <tr>\n",
       "      <th rowspan=\"5\" valign=\"top\">2013-11-08</th>\n",
       "      <th>0.9</th>\n",
       "      <td>90.854775</td>\n",
       "      <td>26.186</td>\n",
       "      <td>52.9592</td>\n",
       "      <td>61.26800</td>\n",
       "      <td>-2.638194</td>\n",
       "      <td>2.640161</td>\n",
       "      <td>-0.093404</td>\n",
       "      <td>-0.138231</td>\n",
       "      <td>0.040203</td>\n",
       "      <td>177.000664</td>\n",
       "    </tr>\n",
       "    <tr>\n",
       "      <th>2.4</th>\n",
       "      <td>90.872351</td>\n",
       "      <td>25.810</td>\n",
       "      <td>53.2076</td>\n",
       "      <td>64.09399</td>\n",
       "      <td>-2.796803</td>\n",
       "      <td>2.833327</td>\n",
       "      <td>0.393956</td>\n",
       "      <td>-0.600695</td>\n",
       "      <td>0.297950</td>\n",
       "      <td>167.878211</td>\n",
       "    </tr>\n",
       "    <tr>\n",
       "      <th>4.0</th>\n",
       "      <td>90.821555</td>\n",
       "      <td>25.380</td>\n",
       "      <td>53.6288</td>\n",
       "      <td>57.86600</td>\n",
       "      <td>-4.041865</td>\n",
       "      <td>4.005252</td>\n",
       "      <td>-0.683208</td>\n",
       "      <td>0.414897</td>\n",
       "      <td>0.342024</td>\n",
       "      <td>185.860873</td>\n",
       "    </tr>\n",
       "    <tr>\n",
       "      <th>10.1</th>\n",
       "      <td>90.761141</td>\n",
       "      <td>25.264</td>\n",
       "      <td>53.8664</td>\n",
       "      <td>57.38000</td>\n",
       "      <td>-5.229591</td>\n",
       "      <td>5.225090</td>\n",
       "      <td>-0.351743</td>\n",
       "      <td>-0.276876</td>\n",
       "      <td>-0.354408</td>\n",
       "      <td>176.969358</td>\n",
       "    </tr>\n",
       "    <tr>\n",
       "      <th>16.8</th>\n",
       "      <td>90.730765</td>\n",
       "      <td>24.934</td>\n",
       "      <td>54.0752</td>\n",
       "      <td>58.02800</td>\n",
       "      <td>-5.908238</td>\n",
       "      <td>5.901349</td>\n",
       "      <td>-0.287311</td>\n",
       "      <td>0.034531</td>\n",
       "      <td>-0.112876</td>\n",
       "      <td>180.334863</td>\n",
       "    </tr>\n",
       "  </tbody>\n",
       "</table>\n",
       "</div>"
      ],
      "text/plain": [
       "                           p      rh        t    tsonic    unorth   ustream  \\\n",
       "datetime   height                                                             \n",
       "2013-11-08 0.9     90.854775  26.186  52.9592  61.26800 -2.638194  2.640161   \n",
       "           2.4     90.872351  25.810  53.2076  64.09399 -2.796803  2.833327   \n",
       "           4.0     90.821555  25.380  53.6288  57.86600 -4.041865  4.005252   \n",
       "           10.1    90.761141  25.264  53.8664  57.38000 -5.229591  5.225090   \n",
       "           16.8    90.730765  24.934  54.0752  58.02800 -5.908238  5.901349   \n",
       "\n",
       "                     vcross     vwest         w        wdir  \n",
       "datetime   height                                            \n",
       "2013-11-08 0.9    -0.093404 -0.138231  0.040203  177.000664  \n",
       "           2.4     0.393956 -0.600695  0.297950  167.878211  \n",
       "           4.0    -0.683208  0.414897  0.342024  185.860873  \n",
       "           10.1   -0.351743 -0.276876 -0.354408  176.969358  \n",
       "           16.8   -0.287311  0.034531 -0.112876  180.334863  "
      ]
     },
     "execution_count": 12,
     "metadata": {},
     "output_type": "execute_result"
    }
   ],
   "source": [
    "%time rawdata = read_files(filelist, reader=read_wide_csv)\n",
    "rawdata.head()\n",
    "# CPU times: user 2min 16s, sys: 10.3 s, total: 2min 26s\n",
    "# Wall time: 2min 27s"
   ]
  },
  {
   "cell_type": "markdown",
   "metadata": {},
   "source": [
    "### 1c. data standardization\n",
    "<font color='red'>These data conversions are specific to TTU met tower (tower.z01.00)</font>"
   ]
  },
  {
   "cell_type": "code",
   "execution_count": 13,
   "metadata": {},
   "outputs": [],
   "source": [
    "rawdata['u'] = rawdata['vwest']\n",
    "rawdata['v'] = -rawdata['unorth']"
   ]
  },
  {
   "cell_type": "code",
   "execution_count": 14,
   "metadata": {},
   "outputs": [],
   "source": [
    "# convert from deg F to K\n",
    "rawdata['t'] = 5./9. * (rawdata['t']-32) + 273.15\n",
    "rawdata['tsonic'] = 5./9. * (rawdata['tsonic']-32) + 273.15"
   ]
  },
  {
   "cell_type": "code",
   "execution_count": 15,
   "metadata": {},
   "outputs": [],
   "source": [
    "# convert kPa to mbar\n",
    "rawdata['p'] *= 10."
   ]
  },
  {
   "cell_type": "code",
   "execution_count": 16,
   "metadata": {},
   "outputs": [],
   "source": [
    "# rename vars\n",
    "rawdata = rawdata.rename(columns={\n",
    "    't': 'T',\n",
    "    'tsonic': 'Ts',\n",
    "    'rh': 'RH',\n",
    "})"
   ]
  },
  {
   "cell_type": "markdown",
   "metadata": {},
   "source": [
    "## 2. Calculations\n",
    "### 2a. Perform tilt correction"
   ]
  },
  {
   "cell_type": "code",
   "execution_count": 17,
   "metadata": {},
   "outputs": [],
   "source": [
    "corrected = rawdata[['u','v','w','Ts','T','RH','p']].unstack() # make an unstacked copy"
   ]
  },
  {
   "cell_type": "code",
   "execution_count": 18,
   "metadata": {},
   "outputs": [],
   "source": [
    "ucorr,vcorr,wcorr = tilt_correction(corrected['u'],corrected['v'],corrected['w'],\n",
    "                                    reg_coefs=reg_coefs,\n",
    "                                    tilts=tilts)"
   ]
  },
  {
   "cell_type": "code",
   "execution_count": 19,
   "metadata": {},
   "outputs": [],
   "source": [
    "corrected.loc[:,'u'] = ucorr\n",
    "corrected.loc[:,'v'] = vcorr\n",
    "corrected.loc[:,'w'] = wcorr"
   ]
  },
  {
   "cell_type": "code",
   "execution_count": 20,
   "metadata": {},
   "outputs": [],
   "source": [
    "corrected = corrected.stack(dropna=False)"
   ]
  },
  {
   "cell_type": "markdown",
   "metadata": {},
   "source": [
    "<font color='green'>At this point, we save the high-frequency data for spectral analysis</font>"
   ]
  },
  {
   "cell_type": "code",
   "execution_count": 21,
   "metadata": {},
   "outputs": [
    {
     "name": "stdout",
     "output_type": "stream",
     "text": [
      "CPU times: user 28.1 s, sys: 422 ms, total: 28.6 s\n",
      "Wall time: 28.6 s\n"
     ]
    }
   ],
   "source": [
    "%time corrected.to_csv(output_1Hz)\n",
    "# CPU times: user 32.7 s, sys: 1.33 s, total: 34 s\n",
    "# Wall time: 34.1 s"
   ]
  },
  {
   "cell_type": "markdown",
   "metadata": {},
   "source": [
    "### 2b. Calculate additional quantities of interest\n",
    "Note: per `TTU_tower_heatflux_stability.ipynb`, `theta` (calculated from air temperature) is acceptable for analysis in the mean; for correlations, `thetas` (calculated from sonic temperature) should be used for calculating fluctuations and correlations. "
   ]
  },
  {
   "cell_type": "code",
   "execution_count": 22,
   "metadata": {},
   "outputs": [],
   "source": [
    "def calc_QOIs(df):\n",
    "    df['theta'] = theta(df['T'], df['p'])\n",
    "    df['thetas'] = theta(df['Ts'], df['p'])"
   ]
  },
  {
   "cell_type": "code",
   "execution_count": 23,
   "metadata": {},
   "outputs": [
    {
     "data": {
      "text/html": [
       "<div>\n",
       "<style scoped>\n",
       "    .dataframe tbody tr th:only-of-type {\n",
       "        vertical-align: middle;\n",
       "    }\n",
       "\n",
       "    .dataframe tbody tr th {\n",
       "        vertical-align: top;\n",
       "    }\n",
       "\n",
       "    .dataframe thead th {\n",
       "        text-align: right;\n",
       "    }\n",
       "</style>\n",
       "<table border=\"1\" class=\"dataframe\">\n",
       "  <thead>\n",
       "    <tr style=\"text-align: right;\">\n",
       "      <th></th>\n",
       "      <th></th>\n",
       "      <th>p</th>\n",
       "      <th>RH</th>\n",
       "      <th>T</th>\n",
       "      <th>Ts</th>\n",
       "      <th>unorth</th>\n",
       "      <th>ustream</th>\n",
       "      <th>vcross</th>\n",
       "      <th>vwest</th>\n",
       "      <th>w</th>\n",
       "      <th>wdir</th>\n",
       "      <th>u</th>\n",
       "      <th>v</th>\n",
       "      <th>theta</th>\n",
       "      <th>thetas</th>\n",
       "    </tr>\n",
       "    <tr>\n",
       "      <th>datetime</th>\n",
       "      <th>height</th>\n",
       "      <th></th>\n",
       "      <th></th>\n",
       "      <th></th>\n",
       "      <th></th>\n",
       "      <th></th>\n",
       "      <th></th>\n",
       "      <th></th>\n",
       "      <th></th>\n",
       "      <th></th>\n",
       "      <th></th>\n",
       "      <th></th>\n",
       "      <th></th>\n",
       "      <th></th>\n",
       "      <th></th>\n",
       "    </tr>\n",
       "  </thead>\n",
       "  <tbody>\n",
       "    <tr>\n",
       "      <th rowspan=\"5\" valign=\"top\">2013-11-08</th>\n",
       "      <th>0.9</th>\n",
       "      <td>908.547754</td>\n",
       "      <td>26.186</td>\n",
       "      <td>284.794</td>\n",
       "      <td>289.410000</td>\n",
       "      <td>-2.638194</td>\n",
       "      <td>2.640161</td>\n",
       "      <td>-0.093404</td>\n",
       "      <td>-0.138231</td>\n",
       "      <td>0.040203</td>\n",
       "      <td>177.000664</td>\n",
       "      <td>-0.138231</td>\n",
       "      <td>2.638194</td>\n",
       "      <td>292.713920</td>\n",
       "      <td>297.458288</td>\n",
       "    </tr>\n",
       "    <tr>\n",
       "      <th>2.4</th>\n",
       "      <td>908.723508</td>\n",
       "      <td>25.810</td>\n",
       "      <td>284.932</td>\n",
       "      <td>290.979994</td>\n",
       "      <td>-2.796803</td>\n",
       "      <td>2.833327</td>\n",
       "      <td>0.393956</td>\n",
       "      <td>-0.600695</td>\n",
       "      <td>0.297950</td>\n",
       "      <td>167.878211</td>\n",
       "      <td>-0.600695</td>\n",
       "      <td>2.796803</td>\n",
       "      <td>292.839558</td>\n",
       "      <td>299.055399</td>\n",
       "    </tr>\n",
       "    <tr>\n",
       "      <th>4.0</th>\n",
       "      <td>908.215548</td>\n",
       "      <td>25.380</td>\n",
       "      <td>285.166</td>\n",
       "      <td>287.520000</td>\n",
       "      <td>-4.041865</td>\n",
       "      <td>4.005252</td>\n",
       "      <td>-0.683208</td>\n",
       "      <td>0.414897</td>\n",
       "      <td>0.342024</td>\n",
       "      <td>185.860873</td>\n",
       "      <td>0.414897</td>\n",
       "      <td>4.041865</td>\n",
       "      <td>293.126923</td>\n",
       "      <td>295.546639</td>\n",
       "    </tr>\n",
       "    <tr>\n",
       "      <th>10.1</th>\n",
       "      <td>907.611414</td>\n",
       "      <td>25.264</td>\n",
       "      <td>285.298</td>\n",
       "      <td>287.250000</td>\n",
       "      <td>-5.229591</td>\n",
       "      <td>5.225090</td>\n",
       "      <td>-0.351743</td>\n",
       "      <td>-0.276876</td>\n",
       "      <td>-0.354408</td>\n",
       "      <td>176.969358</td>\n",
       "      <td>-0.276876</td>\n",
       "      <td>5.229591</td>\n",
       "      <td>293.318423</td>\n",
       "      <td>295.325299</td>\n",
       "    </tr>\n",
       "    <tr>\n",
       "      <th>16.8</th>\n",
       "      <td>907.307654</td>\n",
       "      <td>24.934</td>\n",
       "      <td>285.414</td>\n",
       "      <td>287.610000</td>\n",
       "      <td>-5.908238</td>\n",
       "      <td>5.901349</td>\n",
       "      <td>-0.287311</td>\n",
       "      <td>0.034531</td>\n",
       "      <td>-0.112876</td>\n",
       "      <td>180.334863</td>\n",
       "      <td>0.034531</td>\n",
       "      <td>5.908238</td>\n",
       "      <td>293.465778</td>\n",
       "      <td>295.723729</td>\n",
       "    </tr>\n",
       "  </tbody>\n",
       "</table>\n",
       "</div>"
      ],
      "text/plain": [
       "                            p      RH        T          Ts    unorth  \\\n",
       "datetime   height                                                      \n",
       "2013-11-08 0.9     908.547754  26.186  284.794  289.410000 -2.638194   \n",
       "           2.4     908.723508  25.810  284.932  290.979994 -2.796803   \n",
       "           4.0     908.215548  25.380  285.166  287.520000 -4.041865   \n",
       "           10.1    907.611414  25.264  285.298  287.250000 -5.229591   \n",
       "           16.8    907.307654  24.934  285.414  287.610000 -5.908238   \n",
       "\n",
       "                    ustream    vcross     vwest         w        wdir  \\\n",
       "datetime   height                                                       \n",
       "2013-11-08 0.9     2.640161 -0.093404 -0.138231  0.040203  177.000664   \n",
       "           2.4     2.833327  0.393956 -0.600695  0.297950  167.878211   \n",
       "           4.0     4.005252 -0.683208  0.414897  0.342024  185.860873   \n",
       "           10.1    5.225090 -0.351743 -0.276876 -0.354408  176.969358   \n",
       "           16.8    5.901349 -0.287311  0.034531 -0.112876  180.334863   \n",
       "\n",
       "                          u         v       theta      thetas  \n",
       "datetime   height                                              \n",
       "2013-11-08 0.9    -0.138231  2.638194  292.713920  297.458288  \n",
       "           2.4    -0.600695  2.796803  292.839558  299.055399  \n",
       "           4.0     0.414897  4.041865  293.126923  295.546639  \n",
       "           10.1   -0.276876  5.229591  293.318423  295.325299  \n",
       "           16.8    0.034531  5.908238  293.465778  295.723729  "
      ]
     },
     "execution_count": 23,
     "metadata": {},
     "output_type": "execute_result"
    }
   ],
   "source": [
    "calc_QOIs(rawdata)\n",
    "rawdata.head()"
   ]
  },
  {
   "cell_type": "code",
   "execution_count": 24,
   "metadata": {},
   "outputs": [
    {
     "data": {
      "text/html": [
       "<div>\n",
       "<style scoped>\n",
       "    .dataframe tbody tr th:only-of-type {\n",
       "        vertical-align: middle;\n",
       "    }\n",
       "\n",
       "    .dataframe tbody tr th {\n",
       "        vertical-align: top;\n",
       "    }\n",
       "\n",
       "    .dataframe thead th {\n",
       "        text-align: right;\n",
       "    }\n",
       "</style>\n",
       "<table border=\"1\" class=\"dataframe\">\n",
       "  <thead>\n",
       "    <tr style=\"text-align: right;\">\n",
       "      <th></th>\n",
       "      <th></th>\n",
       "      <th>u</th>\n",
       "      <th>v</th>\n",
       "      <th>w</th>\n",
       "      <th>Ts</th>\n",
       "      <th>T</th>\n",
       "      <th>RH</th>\n",
       "      <th>p</th>\n",
       "      <th>theta</th>\n",
       "      <th>thetas</th>\n",
       "    </tr>\n",
       "    <tr>\n",
       "      <th>datetime</th>\n",
       "      <th>height</th>\n",
       "      <th></th>\n",
       "      <th></th>\n",
       "      <th></th>\n",
       "      <th></th>\n",
       "      <th></th>\n",
       "      <th></th>\n",
       "      <th></th>\n",
       "      <th></th>\n",
       "      <th></th>\n",
       "    </tr>\n",
       "  </thead>\n",
       "  <tbody>\n",
       "    <tr>\n",
       "      <th rowspan=\"5\" valign=\"top\">2013-11-08</th>\n",
       "      <th>0.9</th>\n",
       "      <td>-0.138929</td>\n",
       "      <td>2.637817</td>\n",
       "      <td>0.074016</td>\n",
       "      <td>289.410000</td>\n",
       "      <td>284.794</td>\n",
       "      <td>26.186</td>\n",
       "      <td>908.547754</td>\n",
       "      <td>292.713920</td>\n",
       "      <td>297.458288</td>\n",
       "    </tr>\n",
       "    <tr>\n",
       "      <th>2.4</th>\n",
       "      <td>-0.601111</td>\n",
       "      <td>2.783204</td>\n",
       "      <td>0.487330</td>\n",
       "      <td>290.979994</td>\n",
       "      <td>284.932</td>\n",
       "      <td>25.810</td>\n",
       "      <td>908.723508</td>\n",
       "      <td>292.839558</td>\n",
       "      <td>299.055399</td>\n",
       "    </tr>\n",
       "    <tr>\n",
       "      <th>4.0</th>\n",
       "      <td>0.416792</td>\n",
       "      <td>4.043940</td>\n",
       "      <td>0.295800</td>\n",
       "      <td>287.520000</td>\n",
       "      <td>285.166</td>\n",
       "      <td>25.380</td>\n",
       "      <td>908.215548</td>\n",
       "      <td>293.126923</td>\n",
       "      <td>295.546639</td>\n",
       "    </tr>\n",
       "    <tr>\n",
       "      <th>10.1</th>\n",
       "      <td>-0.276479</td>\n",
       "      <td>5.227110</td>\n",
       "      <td>-0.418065</td>\n",
       "      <td>287.250000</td>\n",
       "      <td>285.298</td>\n",
       "      <td>25.264</td>\n",
       "      <td>907.611414</td>\n",
       "      <td>293.318423</td>\n",
       "      <td>295.325299</td>\n",
       "    </tr>\n",
       "    <tr>\n",
       "      <th>16.8</th>\n",
       "      <td>0.034364</td>\n",
       "      <td>5.908367</td>\n",
       "      <td>-0.173836</td>\n",
       "      <td>287.610000</td>\n",
       "      <td>285.414</td>\n",
       "      <td>24.934</td>\n",
       "      <td>907.307654</td>\n",
       "      <td>293.465778</td>\n",
       "      <td>295.723729</td>\n",
       "    </tr>\n",
       "  </tbody>\n",
       "</table>\n",
       "</div>"
      ],
      "text/plain": [
       "                          u         v         w          Ts        T      RH  \\\n",
       "datetime   height                                                              \n",
       "2013-11-08 0.9    -0.138929  2.637817  0.074016  289.410000  284.794  26.186   \n",
       "           2.4    -0.601111  2.783204  0.487330  290.979994  284.932  25.810   \n",
       "           4.0     0.416792  4.043940  0.295800  287.520000  285.166  25.380   \n",
       "           10.1   -0.276479  5.227110 -0.418065  287.250000  285.298  25.264   \n",
       "           16.8    0.034364  5.908367 -0.173836  287.610000  285.414  24.934   \n",
       "\n",
       "                            p       theta      thetas  \n",
       "datetime   height                                      \n",
       "2013-11-08 0.9     908.547754  292.713920  297.458288  \n",
       "           2.4     908.723508  292.839558  299.055399  \n",
       "           4.0     908.215548  293.126923  295.546639  \n",
       "           10.1    907.611414  293.318423  295.325299  \n",
       "           16.8    907.307654  293.465778  295.723729  "
      ]
     },
     "execution_count": 24,
     "metadata": {},
     "output_type": "execute_result"
    }
   ],
   "source": [
    "calc_QOIs(corrected)\n",
    "corrected.head()"
   ]
  },
  {
   "cell_type": "markdown",
   "metadata": {},
   "source": [
    "### 2c. Calculate rolling statistics\n",
    "See `TTU_tower_heatflux_stability.ipynb` for more details regarding $T_v$ vs $T_s$"
   ]
  },
  {
   "cell_type": "code",
   "execution_count": 25,
   "metadata": {},
   "outputs": [],
   "source": [
    "def calc_rolling_stats(df,offset='10min'):\n",
    "    \"\"\"Calculate quantities of interest, with statistics based on the specified pandas offset string\n",
    "    \n",
    "    Note: we could also have used `resample` instead of `rolling`. To be consistent with previous analyses,\n",
    "    however, I've used rolling statistics for the plots in the next section.\n",
    "    \"\"\"\n",
    "    # calculate statistical quantities on unstacked \n",
    "    unstacked = df.unstack()\n",
    "    stats = unstacked.rolling(offset).mean().stack()\n",
    "    # - recalculate wind based on averaged components\n",
    "    stats['wspd'], stats['wdir'] = calc_wind(stats)\n",
    "#     stats['theta'] = theta(stats['T'], stats['p'])\n",
    "#     stats['thetas'] = theta(stats['Ts'], stats['p'])\n",
    "    # - calculate variances\n",
    "    stats['uu'] = unstacked['u'].rolling(offset).var().stack()\n",
    "    stats['vv'] = unstacked['v'].rolling(offset).var().stack()\n",
    "    stats['ww'] = unstacked['w'].rolling(offset).var().stack()\n",
    "    # - calculate covariances\n",
    "    stats['uv'] = covariance(unstacked['u'], unstacked['v'], offset).stack()\n",
    "    stats['vw'] = covariance(unstacked['v'], unstacked['w'], offset).stack()\n",
    "    stats['uw'] = covariance(unstacked['u'], unstacked['w'], offset).stack()\n",
    "    stats['Tw'] = covariance(unstacked['Ts'], unstacked['w'], offset).stack()\n",
    "    stats['thetaw'] = covariance(unstacked['thetas'], unstacked['w'], offset).stack()\n",
    "    # - calculate derived quantities\n",
    "    #   TODO: implement in helper_functions.py\n",
    "    stats['u*'] = (stats['uw']**2 + stats['vw']**2)**0.25\n",
    "    stats['TKE'] = 0.5*(stats['uu'] + stats['vv'] + stats['ww'])\n",
    "    ang = np.radians(270. - stats['wdir'])\n",
    "    ang[ang<0] += 2*np.pi\n",
    "    stats['TI'] = stats['uu']*np.cos(ang)**2 + 2*stats['uv']*np.sin(ang)*np.cos(ang) + stats['vv']*np.sin(ang)**2\n",
    "    stats['TI'] = np.sqrt(stats['TI']) / stats['wspd']\n",
    "    return stats"
   ]
  },
  {
   "cell_type": "code",
   "execution_count": 26,
   "metadata": {},
   "outputs": [
    {
     "name": "stdout",
     "output_type": "stream",
     "text": [
      "CPU times: user 2min 2s, sys: 3.44 s, total: 2min 6s\n",
      "Wall time: 20.6 s\n"
     ]
    }
   ],
   "source": [
    "%time uncorrected_10min = calc_rolling_stats(rawdata)\n",
    "# CPU times: user 24.2 s, sys: 2.03 s, total: 26.2 s\n",
    "# Wall time: 24.9 s"
   ]
  },
  {
   "cell_type": "code",
   "execution_count": 27,
   "metadata": {},
   "outputs": [
    {
     "name": "stdout",
     "output_type": "stream",
     "text": [
      "CPU times: user 1min 58s, sys: 3.32 s, total: 2min 2s\n",
      "Wall time: 20 s\n"
     ]
    }
   ],
   "source": [
    "# rolling 10-min stats\n",
    "%time corrected_10min = calc_rolling_stats(corrected)\n",
    "# CPU times: user 22.3 s, sys: 1.48 s, total: 23.8 s\n",
    "# Wall time: 23 s"
   ]
  },
  {
   "cell_type": "markdown",
   "metadata": {},
   "source": [
    "<font color='green'>We can now save more general (and manageable) validation data for other analyses</font>"
   ]
  },
  {
   "cell_type": "code",
   "execution_count": 28,
   "metadata": {
    "scrolled": true
   },
   "outputs": [],
   "source": [
    "# save resampled 10-min stats (note: we've already calculated the rolling statistics)\n",
    "corrected_10min.unstack().resample('10min').first().stack().to_csv(output_10min)"
   ]
  },
  {
   "cell_type": "markdown",
   "metadata": {},
   "source": [
    "## 3. Plots"
   ]
  },
  {
   "cell_type": "code",
   "execution_count": 29,
   "metadata": {},
   "outputs": [
    {
     "data": {
      "text/plain": [
       "DatetimeIndex(['2013-11-08 00:00:00', '2013-11-08 00:00:01',\n",
       "               '2013-11-08 00:00:02', '2013-11-08 00:00:03',\n",
       "               '2013-11-08 00:00:04', '2013-11-08 00:00:05',\n",
       "               '2013-11-08 00:00:06', '2013-11-08 00:00:07',\n",
       "               '2013-11-08 00:00:08', '2013-11-08 00:00:09',\n",
       "               ...\n",
       "               '2013-11-09 23:59:50', '2013-11-09 23:59:51',\n",
       "               '2013-11-09 23:59:52', '2013-11-09 23:59:53',\n",
       "               '2013-11-09 23:59:54', '2013-11-09 23:59:55',\n",
       "               '2013-11-09 23:59:56', '2013-11-09 23:59:57',\n",
       "               '2013-11-09 23:59:58', '2013-11-09 23:59:59'],\n",
       "              dtype='datetime64[ns]', name='datetime', length=172798, freq=None)"
      ]
     },
     "execution_count": 29,
     "metadata": {},
     "output_type": "execute_result"
    }
   ],
   "source": [
    "times = corrected_10min.index.levels[0]\n",
    "times"
   ]
  },
  {
   "cell_type": "code",
   "execution_count": 30,
   "metadata": {},
   "outputs": [
    {
     "data": {
      "image/png": "[encoded data removed]",
      "text/plain": [
       "<Figure size 864x648 with 3 Axes>"
      ]
     },
     "metadata": {
      "needs_background": "light"
     },
     "output_type": "display_data"
    }
   ],
   "source": [
    "zhub = 74.7\n",
    "fig,ax = plot_timehistory_at_height(\n",
    "    {'uncorrected':uncorrected_10min, 'tilt corrected':corrected_10min},\n",
    "    fields=['wspd','wdir','w'],\n",
    "    heights=zhub,\n",
    ")"
   ]
  },
  {
   "cell_type": "code",
   "execution_count": 33,
   "metadata": {},
   "outputs": [
    {
     "ename": "IndexError",
     "evalue": "tuple index out of range",
     "output_type": "error",
     "traceback": [
      "\u001b[0;31m---------------------------------------------------------------------------\u001b[0m",
      "\u001b[0;31mIndexError\u001b[0m                                Traceback (most recent call last)",
      "\u001b[0;32m<ipython-input-33-d50f93dd6978>\u001b[0m in \u001b[0;36m<module>\u001b[0;34m\u001b[0m\n\u001b[1;32m      7\u001b[0m     \u001b[0;34m'2013-11-09 03:00:00'\u001b[0m\u001b[0;34m,\u001b[0m \u001b[0;31m# slightly stable\u001b[0m\u001b[0;34m\u001b[0m\u001b[0;34m\u001b[0m\u001b[0m\n\u001b[1;32m      8\u001b[0m ]\n\u001b[0;32m----> 9\u001b[0;31m \u001b[0mfig\u001b[0m\u001b[0;34m,\u001b[0m\u001b[0max\u001b[0m \u001b[0;34m=\u001b[0m \u001b[0mplot_profile\u001b[0m\u001b[0;34m(\u001b[0m\u001b[0mcorrected_10min\u001b[0m\u001b[0;34m,\u001b[0m \u001b[0mfields\u001b[0m\u001b[0;34m=\u001b[0m\u001b[0;34m[\u001b[0m\u001b[0;34m'Ts'\u001b[0m\u001b[0;34m,\u001b[0m\u001b[0;34m'theta'\u001b[0m\u001b[0;34m]\u001b[0m\u001b[0;34m,\u001b[0m \u001b[0mtimes\u001b[0m\u001b[0;34m=\u001b[0m\u001b[0mselected_times\u001b[0m\u001b[0;34m,\u001b[0m \u001b[0mcmap\u001b[0m\u001b[0;34m=\u001b[0m\u001b[0;34m'viridis'\u001b[0m\u001b[0;34m)\u001b[0m\u001b[0;34m\u001b[0m\u001b[0;34m\u001b[0m\u001b[0m\n\u001b[0m\u001b[1;32m     10\u001b[0m \u001b[0;31m# ax[0].set_xlabel(r'$T_s$ [K]')\u001b[0m\u001b[0;34m\u001b[0m\u001b[0;34m\u001b[0m\u001b[0;34m\u001b[0m\u001b[0m\n\u001b[1;32m     11\u001b[0m \u001b[0;31m# ax[1].set_xlabel(r'$\\theta$ [K]')\u001b[0m\u001b[0;34m\u001b[0m\u001b[0;34m\u001b[0m\u001b[0;34m\u001b[0m\u001b[0m\n",
      "\u001b[0;32m~/DriesNotebook/mmctools/plotting.py\u001b[0m in \u001b[0;36mplot_profile\u001b[0;34m(datasets, fields, times, fig, ax, fieldlimits, heightlimits, fieldlabels, cmap, stack_by_datasets, labelsubplots, showlegend, fieldorder, ncols, subfigsize, datasetkwargs, **kwargs)\u001b[0m\n\u001b[1;32m    817\u001b[0m \u001b[0;34m\u001b[0m\u001b[0m\n\u001b[1;32m    818\u001b[0m                 \u001b[0;31m# Plot data\u001b[0m\u001b[0;34m\u001b[0m\u001b[0;34m\u001b[0m\u001b[0;34m\u001b[0m\u001b[0m\n\u001b[0;32m--> 819\u001b[0;31m                 \u001b[0maxv\u001b[0m\u001b[0;34m[\u001b[0m\u001b[0maxi\u001b[0m\u001b[0;34m]\u001b[0m\u001b[0;34m.\u001b[0m\u001b[0mplot\u001b[0m\u001b[0;34m(\u001b[0m\u001b[0mfieldvalues\u001b[0m\u001b[0;34m,\u001b[0m\u001b[0mheightvalues\u001b[0m\u001b[0;34m,\u001b[0m\u001b[0;34m**\u001b[0m\u001b[0mplotting_properties\u001b[0m\u001b[0;34m)\u001b[0m\u001b[0;34m\u001b[0m\u001b[0;34m\u001b[0m\u001b[0m\n\u001b[0m\u001b[1;32m    820\u001b[0m \u001b[0;34m\u001b[0m\u001b[0m\n\u001b[1;32m    821\u001b[0m                 \u001b[0;31m# Set field label if known\u001b[0m\u001b[0;34m\u001b[0m\u001b[0;34m\u001b[0m\u001b[0;34m\u001b[0m\u001b[0m\n",
      "\u001b[0;32m~/.conda-envs/my_env/lib/python3.7/site-packages/matplotlib/axes/_axes.py\u001b[0m in \u001b[0;36mplot\u001b[0;34m(self, scalex, scaley, data, *args, **kwargs)\u001b[0m\n\u001b[1;32m   1664\u001b[0m         \"\"\"\n\u001b[1;32m   1665\u001b[0m         \u001b[0mkwargs\u001b[0m \u001b[0;34m=\u001b[0m \u001b[0mcbook\u001b[0m\u001b[0;34m.\u001b[0m\u001b[0mnormalize_kwargs\u001b[0m\u001b[0;34m(\u001b[0m\u001b[0mkwargs\u001b[0m\u001b[0;34m,\u001b[0m \u001b[0mmlines\u001b[0m\u001b[0;34m.\u001b[0m\u001b[0mLine2D\u001b[0m\u001b[0;34m.\u001b[0m\u001b[0m_alias_map\u001b[0m\u001b[0;34m)\u001b[0m\u001b[0;34m\u001b[0m\u001b[0;34m\u001b[0m\u001b[0m\n\u001b[0;32m-> 1666\u001b[0;31m         \u001b[0mlines\u001b[0m \u001b[0;34m=\u001b[0m \u001b[0;34m[\u001b[0m\u001b[0;34m*\u001b[0m\u001b[0mself\u001b[0m\u001b[0;34m.\u001b[0m\u001b[0m_get_lines\u001b[0m\u001b[0;34m(\u001b[0m\u001b[0;34m*\u001b[0m\u001b[0margs\u001b[0m\u001b[0;34m,\u001b[0m \u001b[0mdata\u001b[0m\u001b[0;34m=\u001b[0m\u001b[0mdata\u001b[0m\u001b[0;34m,\u001b[0m \u001b[0;34m**\u001b[0m\u001b[0mkwargs\u001b[0m\u001b[0;34m)\u001b[0m\u001b[0;34m]\u001b[0m\u001b[0;34m\u001b[0m\u001b[0;34m\u001b[0m\u001b[0m\n\u001b[0m\u001b[1;32m   1667\u001b[0m         \u001b[0;32mfor\u001b[0m \u001b[0mline\u001b[0m \u001b[0;32min\u001b[0m \u001b[0mlines\u001b[0m\u001b[0;34m:\u001b[0m\u001b[0;34m\u001b[0m\u001b[0;34m\u001b[0m\u001b[0m\n\u001b[1;32m   1668\u001b[0m             \u001b[0mself\u001b[0m\u001b[0;34m.\u001b[0m\u001b[0madd_line\u001b[0m\u001b[0;34m(\u001b[0m\u001b[0mline\u001b[0m\u001b[0;34m)\u001b[0m\u001b[0;34m\u001b[0m\u001b[0;34m\u001b[0m\u001b[0m\n",
      "\u001b[0;32m~/.conda-envs/my_env/lib/python3.7/site-packages/matplotlib/axes/_base.py\u001b[0m in \u001b[0;36m__call__\u001b[0;34m(self, *args, **kwargs)\u001b[0m\n\u001b[1;32m    223\u001b[0m                 \u001b[0mthis\u001b[0m \u001b[0;34m+=\u001b[0m \u001b[0margs\u001b[0m\u001b[0;34m[\u001b[0m\u001b[0;36m0\u001b[0m\u001b[0;34m]\u001b[0m\u001b[0;34m,\u001b[0m\u001b[0;34m\u001b[0m\u001b[0;34m\u001b[0m\u001b[0m\n\u001b[1;32m    224\u001b[0m                 \u001b[0margs\u001b[0m \u001b[0;34m=\u001b[0m \u001b[0margs\u001b[0m\u001b[0;34m[\u001b[0m\u001b[0;36m1\u001b[0m\u001b[0;34m:\u001b[0m\u001b[0;34m]\u001b[0m\u001b[0;34m\u001b[0m\u001b[0;34m\u001b[0m\u001b[0m\n\u001b[0;32m--> 225\u001b[0;31m             \u001b[0;32myield\u001b[0m \u001b[0;32mfrom\u001b[0m \u001b[0mself\u001b[0m\u001b[0;34m.\u001b[0m\u001b[0m_plot_args\u001b[0m\u001b[0;34m(\u001b[0m\u001b[0mthis\u001b[0m\u001b[0;34m,\u001b[0m \u001b[0mkwargs\u001b[0m\u001b[0;34m)\u001b[0m\u001b[0;34m\u001b[0m\u001b[0;34m\u001b[0m\u001b[0m\n\u001b[0m\u001b[1;32m    226\u001b[0m \u001b[0;34m\u001b[0m\u001b[0m\n\u001b[1;32m    227\u001b[0m     \u001b[0;32mdef\u001b[0m \u001b[0mget_next_color\u001b[0m\u001b[0;34m(\u001b[0m\u001b[0mself\u001b[0m\u001b[0;34m)\u001b[0m\u001b[0;34m:\u001b[0m\u001b[0;34m\u001b[0m\u001b[0;34m\u001b[0m\u001b[0m\n",
      "\u001b[0;32m~/.conda-envs/my_env/lib/python3.7/site-packages/matplotlib/axes/_base.py\u001b[0m in \u001b[0;36m_plot_args\u001b[0;34m(self, tup, kwargs)\u001b[0m\n\u001b[1;32m    397\u001b[0m             \u001b[0mfunc\u001b[0m \u001b[0;34m=\u001b[0m \u001b[0mself\u001b[0m\u001b[0;34m.\u001b[0m\u001b[0m_makefill\u001b[0m\u001b[0;34m\u001b[0m\u001b[0;34m\u001b[0m\u001b[0m\n\u001b[1;32m    398\u001b[0m \u001b[0;34m\u001b[0m\u001b[0m\n\u001b[0;32m--> 399\u001b[0;31m         \u001b[0mncx\u001b[0m\u001b[0;34m,\u001b[0m \u001b[0mncy\u001b[0m \u001b[0;34m=\u001b[0m \u001b[0mx\u001b[0m\u001b[0;34m.\u001b[0m\u001b[0mshape\u001b[0m\u001b[0;34m[\u001b[0m\u001b[0;36m1\u001b[0m\u001b[0;34m]\u001b[0m\u001b[0;34m,\u001b[0m \u001b[0my\u001b[0m\u001b[0;34m.\u001b[0m\u001b[0mshape\u001b[0m\u001b[0;34m[\u001b[0m\u001b[0;36m1\u001b[0m\u001b[0;34m]\u001b[0m\u001b[0;34m\u001b[0m\u001b[0;34m\u001b[0m\u001b[0m\n\u001b[0m\u001b[1;32m    400\u001b[0m         \u001b[0;32mif\u001b[0m \u001b[0mncx\u001b[0m \u001b[0;34m>\u001b[0m \u001b[0;36m1\u001b[0m \u001b[0;32mand\u001b[0m \u001b[0mncy\u001b[0m \u001b[0;34m>\u001b[0m \u001b[0;36m1\u001b[0m \u001b[0;32mand\u001b[0m \u001b[0mncx\u001b[0m \u001b[0;34m!=\u001b[0m \u001b[0mncy\u001b[0m\u001b[0;34m:\u001b[0m\u001b[0;34m\u001b[0m\u001b[0;34m\u001b[0m\u001b[0m\n\u001b[1;32m    401\u001b[0m             cbook.warn_deprecated(\n",
      "\u001b[0;31mIndexError\u001b[0m: tuple index out of range"
     ]
    },
    {
     "data": {
      "image/png": "[encoded data removed]",
      "text/plain": [
       "<Figure size 576x360 with 2 Axes>"
      ]
     },
     "metadata": {
      "needs_background": "light"
     },
     "output_type": "display_data"
    }
   ],
   "source": [
    "selected_times = [\n",
    "    '2013-11-08 12:00:00', # very stable\n",
    "    '2013-11-08 15:00:00', # ~neutral\n",
    "    '2013-11-08 18:00:00', # slightly unstable\n",
    "    '2013-11-08 21:00:00', # ~neutral\n",
    "    '2013-11-09 00:00:00', # ~neutral\n",
    "    '2013-11-09 03:00:00', # slightly stable\n",
    "]\n",
    "fig,ax = plot_profile(corrected_10min, fields=['Ts','theta'], times=selected_times, cmap='viridis')\n",
    "# ax[0].set_xlabel(r'$T_s$ [K]')\n",
    "# ax[1].set_xlabel(r'$\\theta$ [K]')"
   ]
  },
  {
   "cell_type": "code",
   "execution_count": 32,
   "metadata": {},
   "outputs": [
    {
     "data": {
      "text/plain": [
       "Text(0.5, 0, '$time$ $[\\\\mathrm{HH:MM}]$ $Z$')"
      ]
     },
     "execution_count": 32,
     "metadata": {},
     "output_type": "execute_result"
    },
    {
     "data": {
      "image/png": "[encoded data removed]",
      "text/plain": [
       "<Figure size 1296x144 with 1 Axes>"
      ]
     },
     "metadata": {
      "needs_background": "light"
     },
     "output_type": "display_data"
    }
   ],
   "source": [
    "# Jeremy's plot from `TTU_tiltCorrection.ipynb`\n",
    "w = corrected.xs(zhub, level='height')['w']\n",
    "day1 = (w.index >= '2013-11-08 00:00') & (w.index <= '2013-11-09 00:00')\n",
    "w = w.loc[day1]\n",
    "wmean = w.rolling('10min').mean()\n",
    "fig,ax = plt.subplots(figsize=(18,2))\n",
    "w.plot(style='b.')\n",
    "wmean.plot(style='r-')\n",
    "ax.set_ylabel(r'$w$ $[\\mathrm{ms^{-1}}]$', fontsize=14)\n",
    "ax.set_xlabel(r'$time$ $[\\mathrm{HH:MM}]$ $Z$', fontsize=14)"
   ]
  },
  {
   "cell_type": "code",
   "execution_count": null,
   "metadata": {},
   "outputs": [],
   "source": []
  }
 ],
 "metadata": {
  "kernelspec": {
   "display_name": "Python (my_env)",
   "language": "python",
   "name": "my_env"
  },
  "language_info": {
   "codemirror_mode": {
    "name": "ipython",
    "version": 3
   },
   "file_extension": ".py",
   "mimetype": "text/x-python",
   "name": "python",
   "nbconvert_exporter": "python",
   "pygments_lexer": "ipython3",
   "version": "3.7.3"
  }
 },
 "nbformat": 4,
 "nbformat_minor": 2
}
